{
 "cells": [
  {
   "cell_type": "code",
   "execution_count": 101,
   "metadata": {},
   "outputs": [],
   "source": [
    "import csv\n",
    "import nltk\n",
    "from nltk.stem.porter import *\n",
    "import re\n",
    "import pandas as pd"
   ]
  },
  {
   "cell_type": "code",
   "execution_count": 102,
   "metadata": {},
   "outputs": [],
   "source": [
    "#open the file with the russian tweets text\n",
    "df_xlsx = pd.read_excel('/Volumes/Katja/Katja/Hate_Speech_projekt/russische Texte.xlsx')"
   ]
  },
  {
   "cell_type": "code",
   "execution_count": 105,
   "metadata": {},
   "outputs": [],
   "source": [
    "#convert the df_xlsx-file to the df-csv file\n",
    "df_xlsx.to_csv(\"russian_texts.csv\")"
   ]
  },
  {
   "cell_type": "code",
   "execution_count": 106,
   "metadata": {},
   "outputs": [
    {
     "name": "stderr",
     "output_type": "stream",
     "text": [
      "/opt/anaconda3/lib/python3.8/site-packages/IPython/core/interactiveshell.py:3418: DtypeWarning: Columns (4) have mixed types.Specify dtype option on import or set low_memory=False.\n",
      "  exec(code_obj, self.user_global_ns, self.user_ns)\n"
     ]
    }
   ],
   "source": [
    "df = pd.read_csv(\"/Volumes/Katja/Katja/Hate_Speech_projekt/russian_texts.csv\")"
   ]
  },
  {
   "cell_type": "code",
   "execution_count": 107,
   "metadata": {},
   "outputs": [
    {
     "name": "stdout",
     "output_type": "stream",
     "text": [
      "   Unnamed: 0  Unnamed: 0.1             Tweet_ID Language  \\\n",
      "0           0             0  1391211609452843008       ru   \n",
      "1           1             1  1391211683889168396       ru   \n",
      "2           2             2  1391212119316738050       ru   \n",
      "3           3             3  1391212598943694848       ru   \n",
      "4           4             4  1391212890858864645       ru   \n",
      "\n",
      "                                                text Geolocation_coordinate  \\\n",
      "0  После вакцинации AstraZeneca экс-чемпиону мира...                     NO   \n",
      "1  COVID-19 в Испании: страна отменила режим чрез...                     NO   \n",
      "2  Назван вес, при котором увеличивается риск гос...                     NO   \n",
      "3  Коронавирус в Казахстане: +2350 новых случаев ...                     NO   \n",
      "4  Коронавирус в Казахстане: +2350 новых случаев ...                     NO   \n",
      "\n",
      "   RT  Likes  Retweets Country                    Date Created  \n",
      "0  NO      0         0     NaN  Sun May 09 02:01:09 +0000 2021  \n",
      "1  NO      0         0     NaN  Sun May 09 02:01:27 +0000 2021  \n",
      "2  NO      0         0     NaN  Sun May 09 02:03:11 +0000 2021  \n",
      "3  NO      0         0     NaN  Sun May 09 02:05:05 +0000 2021  \n",
      "4  NO      0         0     NaN  Sun May 09 02:06:15 +0000 2021  \n"
     ]
    }
   ],
   "source": [
    "print(df.head(5))"
   ]
  },
  {
   "cell_type": "code",
   "execution_count": 133,
   "metadata": {},
   "outputs": [],
   "source": [
    "#implement stop_words from nltk\n",
    "from nltk.corpus import stopwords\n",
    "russian_stopwords = stopwords.words(\"russian\")"
   ]
  },
  {
   "cell_type": "code",
   "execution_count": 134,
   "metadata": {},
   "outputs": [],
   "source": [
    "other_exclusions = ['#ff',\"ff\",\"rt\"]\n",
    "russian_stopwords.extend(other_exclusions)"
   ]
  },
  {
   "cell_type": "code",
   "execution_count": 135,
   "metadata": {},
   "outputs": [],
   "source": [
    "#implement PorterStemmer from nltk for russian language\n",
    "from nltk.stem.snowball import SnowballStemmer\n",
    "stemmer = SnowballStemmer(\"russian\")\n"
   ]
  },
  {
   "cell_type": "code",
   "execution_count": 136,
   "metadata": {},
   "outputs": [],
   "source": [
    "#extract all links from the texts\n",
    "def preprocess(text_string):\n",
    "    space_pattern = '\\s+'\n",
    "    giant_url_regex = ('http[s]?://(?:[a-zA-Z]|[0-9]|[$-_@.&+]|'\n",
    "        '[!*\\(\\),]|(?:%[0-9a-fA-F][0-9a-fA-F]))+')\n",
    "    mention_regex = '@[\\w\\-]+'\n",
    "    parsed_text = re.sub(space_pattern, ' ', str(text_string))\n",
    "    parsed_text = re.sub(giant_url_regex, '', str(parsed_text))\n",
    "    parsed_text = re.sub(mention_regex, '', str(parsed_text))\n",
    "    return str(parsed_text)"
   ]
  },
  {
   "cell_type": "code",
   "execution_count": 137,
   "metadata": {},
   "outputs": [],
   "source": [
    "tweets_text =df.text.to_list()"
   ]
  },
  {
   "cell_type": "code",
   "execution_count": null,
   "metadata": {},
   "outputs": [],
   "source": []
  },
  {
   "cell_type": "code",
   "execution_count": 138,
   "metadata": {},
   "outputs": [
    {
     "name": "stdout",
     "output_type": "stream",
     "text": [
      "['Врачи оценили риск повторно заразиться COVID-19 при высоком титре антител https://t.co/NflgxtOYRr', 'RT @tegsh78: @MdyBolor @Miigaa_d @GanzoTg @OyunerdeneMN @AmarsaikhanS @BattulgaKh Харин сонин короно байх юм аа Ардын намын ойд очихгүй мөр…', 'RT @ikonnews: Энэтхэгт нэг хоногийн дотор анх удаа 4,000 гаруй хүн Covid-19 өвчнөөр нас барав https://t.co/MLf0kyo0Kt https://t.co/UGKOKWVq…', 'RT @tegsh78: @MdyBolor @Miigaa_d @GanzoTg @OyunerdeneMN @AmarsaikhanS @BattulgaKh Харин сонин короно байх юм аа Ардын намын ойд очихгүй мөр…', 'Решение властей подарить ветеранам одеяла, снижение платы за тепло на 46% и вспышка COVID-19 среди студентов БГМУ: Главные новости недели в Башкирии \\nРедакция https://t.co/mhPHxFzpQm подготовила очередной обзор главных новостей уходящей недели в Баш... https://t.co/2ZgvnPtV5t https://t.co/CVyM8E0JH5']\n"
     ]
    }
   ],
   "source": [
    "tweets_text_preprocess = list(map(preprocess, tweets_text))\n",
    "print(tweets_text[5:10])"
   ]
  },
  {
   "cell_type": "code",
   "execution_count": 139,
   "metadata": {},
   "outputs": [],
   "source": [
    "#tokenize the tweets\n",
    "def tokenize(tweet):\n",
    "    tweet = \" \".join(re.split(\"[^\\w]\", tweet.lower())).strip()\n",
    "    tokens = [stemmer.stem(t) for t in tweet.split()]\n",
    "    return tokens\n",
    "\n",
    "\n",
    "#[\\p{IsCyrillic}][0-9\\p{IsCyrillic}]+"
   ]
  },
  {
   "cell_type": "code",
   "execution_count": 140,
   "metadata": {},
   "outputs": [
    {
     "name": "stdout",
     "output_type": "stream",
     "text": [
      "['Врачи оценили риск повторно заразиться COVID-19 при высоком титре антител ', 'RT :       Харин сонин короно байх юм аа Ардын намын ойд очихгүй мөр…', 'RT : Энэтхэгт нэг хоногийн дотор анх удаа 4,000 гаруй хүн Covid-19 өвчнөөр нас барав  …', 'RT :       Харин сонин короно байх юм аа Ардын намын ойд очихгүй мөр…', 'Решение властей подарить ветеранам одеяла, снижение платы за тепло на 46% и вспышка COVID-19 среди студентов БГМУ: Главные новости недели в Башкирии Редакция  подготовила очередной обзор главных новостей уходящей недели в Баш...  ']\n"
     ]
    }
   ],
   "source": [
    "#tokenize_tweets_text = list(map(tokenize, tweets_text_preprocess))\n",
    "#print(tweets_text_preprocess[5:10])"
   ]
  },
  {
   "cell_type": "code",
   "execution_count": 147,
   "metadata": {},
   "outputs": [],
   "source": [
    "#get the tokens from the texts f.ex. I am eating --> [\"i\",\"to be\",\"to eat\"]\n",
    "from pymystem3 import Mystem\n",
    "mystem = Mystem()\n",
    "from string import punctuation\n",
    "def preprocess_text(text):\n",
    "    tokens = mystem.lemmatize(text.lower())\n",
    "    tokens = [token for token in tokens if token not in russian_stopwords\\\n",
    "             and token !=\" \"\\\n",
    "             and token.strip() not in punctuation]\n",
    "    text = \" \".join(tokens)\n",
    "    return text\n"
   ]
  },
  {
   "cell_type": "code",
   "execution_count": 148,
   "metadata": {},
   "outputs": [],
   "source": [
    "tokenize_tweets_text = list(map(preprocess_text, tweets_text_preprocess))"
   ]
  },
  {
   "cell_type": "code",
   "execution_count": 149,
   "metadata": {},
   "outputs": [
    {
     "name": "stdout",
     "output_type": "stream",
     "text": [
      "['врач оценивать риск повторно заражаться covid 19 высокий титр антитело', 'харин сонин короно байх юм аа ардын намын ойд очихгүй мөр …', 'энэтхэгт нэг хоногийн дотор анх удаа 4 000 гаровать хүн covid 19 өвчнөөр барывать …', 'харин сонин короно байх юм аа ардын намын ойд очихгүй мөр …', 'решение власть подарить ветеран одеяло снижение плата тепло 46 вспышка covid 19 среди студент бгма главный новость неделя башкирия редакция подготовить очередной обзор главный новость уходить неделя баш ...']\n"
     ]
    }
   ],
   "source": [
    "print(tokenize_tweets_text[5:10])"
   ]
  },
  {
   "cell_type": "code",
   "execution_count": 157,
   "metadata": {},
   "outputs": [],
   "source": [
    "from pymorphy2 import MorphAnalyzer\n",
    "import pymorphy2\n",
    "import re\n"
   ]
  },
  {
   "cell_type": "code",
   "execution_count": 222,
   "metadata": {},
   "outputs": [],
   "source": [
    "#tried to extract also languages as kasachich, which have \n",
    "#the same letters as russian languages, but which I dont speak and dont understand\n",
    "# tweet that has 1.0 point or approximately 1.0 belong to russian language, the other not\n",
    "#but this code doesnt work \n",
    "m = MorphAnalyzer()\n",
    "r = re.compile(r'\\w\\+')\n",
    "only_russian_tweets = []\n",
    "for tweet in tokenize_tweets_text:\n",
    "    cnt = 0\n",
    "    bad = 0\n",
    "    for word in r.findall(tweet):\n",
    "        cnt += 1\n",
    "        p = m.parse(word)[0]\n",
    "        bad += (not p.tag.POS or \\\n",
    "               isinstance(p.methods_stack[0][0],pymorphy2.units.by_analogy.KnownSuffixAnalyzer.FakeDictionary))\n",
    "    try:\n",
    "        if bad/cnt < 0.25:\n",
    "            only_russian_tweets.append(tweet)\n",
    "    except ZeroDivisionError: \n",
    "        continue\n",
    "        #print(f'{bad/cnt:0.2f}', tweet)\n"
   ]
  },
  {
   "cell_type": "code",
   "execution_count": 223,
   "metadata": {},
   "outputs": [
    {
     "data": {
      "text/plain": [
       "[]"
      ]
     },
     "execution_count": 223,
     "metadata": {},
     "output_type": "execute_result"
    }
   ],
   "source": [
    "only_russian_tweets[5:21]"
   ]
  },
  {
   "cell_type": "code",
   "execution_count": 209,
   "metadata": {},
   "outputs": [],
   "source": [
    "\n",
    "#rus = set('Ә ә, Ө ө, Ү ү, Ғ ғ, Қ қ. Ң ң, Ү́ ү́, Ұ ұ ')\n",
    "#extract other tweets that have other letters than russian language and english (because tweets were \n",
    "#collect by \"covid\"-hashtags)\n",
    "\n",
    "\n",
    "rus = set('абвгдеёжзийклмнопрстуфхцчшщъыьэюяabcdefghijklmnopqrstuvwxyz0123456789 ')\n",
    "conv_text = lambda mas_in : [''.join([j for j in i if j.lower() in rus]) for i in mas_in]\n",
    "\n",
    "\n",
    "\n"
   ]
  },
  {
   "cell_type": "code",
   "execution_count": 210,
   "metadata": {},
   "outputs": [
    {
     "data": {
      "text/plain": [
       "['врач оценивать риск повторно заражаться covid 19 высокий титр антитело',\n",
       " 'харин сонин короно байх юм аа ардын намын ойд очихгй мр ',\n",
       " 'энэтхэгт нэг хоногийн дотор анх удаа 4 000 гаровать хн covid 19 вчнр барывать ',\n",
       " 'харин сонин короно байх юм аа ардын намын ойд очихгй мр ',\n",
       " 'решение власть подарить ветеран одеяло снижение плата тепло 46 вспышка covid 19 среди студент бгма главный новость неделя башкирия редакция подготовить очередной обзор главный новость уходить неделя баш ',\n",
       " 'харин сонин короно байх юм аа ардын намын ойд очихгй мр ',\n",
       " '2 350 новый факт заражение covid 19 выявлять казахстан сутки',\n",
       " 'коронавирус россия sars cov 2 знать праздник    весь новость',\n",
       " 'смертность covid 19 мир выше 2 исследователь институт показатель оценка здоровье медицинский школа вашингтонский университет сша institute for health metrics and evaluation ihme считать ',\n",
       " 'nan',\n",
       " 'дэмба sinopharm covid 19 вакциныга яаралтай горимд хэрэглэхийг звшрсн жагсаалтад бртгэлээ',\n",
       " 'воз мир смочь достигать коллективный иммунитет covid 19 2021 год',\n",
       " '3106 адам коронавирус инфекциясынан жазылып шыты',\n",
       " 'ткен тулкте 2350 адамнанный коронавирус аныталды',\n",
       " 'суточный прирост случай covid 19 казахстан вновь снижаться',\n",
       " ' 9 май регион подтверждать 67 449 случай заражение инфекция коронавирус covid19 coronavirus иркутск irktoday',\n",
       " 'жириновский предлагать освобождать арест штраф прививка covid 19',\n",
       " 'украина занижать смертность covid 19    американский исследователь',\n",
       " 'кейнг тулкте анша адам коронавирус жтыраны белгл болда',\n",
       " 'коронавирус рк прошедший сутки выявлять 2350 заболевать',\n",
       " '3106 адам коронавирус ндетнен емделп шыты',\n",
       " 'ндр covid 19 ийн эсрэг вакцина хийх цэгд',\n",
       " 'дэлхийн хамгийн ндр настать хн нь 118 настать япон эмээ байдаг юм байн олимпийн бамбарыга ртллэх байсан ч коронагаас болоод татгалзсан байн',\n",
       " 'индия зафиксировать новый антирекорд смертность изза covid 19 сутки собирать главное пандемия 8 май тассит ',\n",
       " 'энэтхэгт нэг хоногийн дотор анх удаа 4 000 гаровать хн covid 19 вчнр барывать ']"
      ]
     },
     "execution_count": 210,
     "metadata": {},
     "output_type": "execute_result"
    }
   ],
   "source": [
    "conv_text(only_russian_tweets[5:30])"
   ]
  },
  {
   "cell_type": "code",
   "execution_count": null,
   "metadata": {},
   "outputs": [],
   "source": []
  }
 ],
 "metadata": {
  "kernelspec": {
   "display_name": "Python 3",
   "language": "python",
   "name": "python3"
  },
  "language_info": {
   "codemirror_mode": {
    "name": "ipython",
    "version": 3
   },
   "file_extension": ".py",
   "mimetype": "text/x-python",
   "name": "python",
   "nbconvert_exporter": "python",
   "pygments_lexer": "ipython3",
   "version": "3.8.5"
  }
 },
 "nbformat": 4,
 "nbformat_minor": 4
}
